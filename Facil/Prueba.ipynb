{
 "cells": [
  {
   "cell_type": "markdown",
   "id": "8e88d184",
   "metadata": {},
   "source": [
    "Metodos en cadena de PYTHON"
   ]
  },
  {
   "cell_type": "code",
   "execution_count": null,
   "id": "05089e64",
   "metadata": {},
   "outputs": [],
   "source": [
    "nombre=\"Roxana \"\n",
    "#print(len(nombre)) //longitud de la variable\n",
    "#print(nombre.find(\"a\")) //Posicion de caracter\n",
    "#print(nombre.capitalize()) //Coloca en mayscula la primera letra de la variable\n",
    "#print(nombre.upper())  //Coloca en mayuscula toda la viable\n",
    "#print(nombre.lower()) //comviete toda la variable en minuscula\n",
    "#print(nombre.isdigit()) //si la variable es un numero responde \"True\" pero si no responde \"False\"\n",
    "#print(nombre.isalpha()) //si en la variable hay un espacio o un caracter responde \"False\" pero si esta todo unido responde \"True\"\n",
    "#print(nombre.count(\"a\")) //contaviliza cuantos elementos similares hay en la variable\n",
    "#print(nombre.replace(\"x\", \"ss\")) //reemplaza un elemnto selecionado en la variable por otro que le colocamos al lado\n",
    "print(nombre*10) #//multiplicamos por las veces que se va a visualizar el contenido de la variable\n",
    "\n"
   ]
  },
  {
   "cell_type": "markdown",
   "id": "bee51968",
   "metadata": {},
   "source": [
    "Convertir Tipos de datos de PYTHON\n",
    " "
   ]
  },
  {
   "cell_type": "code",
   "execution_count": null,
   "id": "40f7eb0e",
   "metadata": {},
   "outputs": [
    {
     "name": "stdout",
     "output_type": "stream",
     "text": [
      "1\n",
      "2\n",
      "<class 'str'>\n"
     ]
    }
   ],
   "source": [
    "X = 1\n",
    "Y = 2.0\n",
    "Z = \"3\" \n",
    "\n",
    "print(X)\n",
    "print(int(Y))  #Si queremos cambiar el tipo de dato\n",
    "print(type(Z)) #Inpremie que tipo de dato es la variable"
   ]
  }
 ],
 "metadata": {
  "kernelspec": {
   "display_name": "Practice_1",
   "language": "python",
   "name": "python3"
  },
  "language_info": {
   "codemirror_mode": {
    "name": "ipython",
    "version": 3
   },
   "file_extension": ".py",
   "mimetype": "text/x-python",
   "name": "python",
   "nbconvert_exporter": "python",
   "pygments_lexer": "ipython3",
   "version": "3.12.10"
  }
 },
 "nbformat": 4,
 "nbformat_minor": 5
}
