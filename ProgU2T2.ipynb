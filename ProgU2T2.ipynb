{
 "cells": [
  {
   "cell_type": "markdown",
   "id": "04af456f",
   "metadata": {},
   "source": [
    "### **Clase base abstracta KNNBase**"
   ]
  },
  {
   "cell_type": "code",
   "execution_count": 28,
   "id": "f8b0d8c6",
   "metadata": {},
   "outputs": [],
   "source": [
    "from abc import ABC, abstractmethod\n",
    "\n",
    "class KNNBase(ABC):\n",
    "    @abstractmethod\n",
    "    def fit(self, x, y):\n",
    "        pass\n",
    "    \n",
    "    @abstractmethod\n",
    "    def predict(self, X_new, k=3):\n",
    "        pass\n",
    "    \n",
    "    @abstractmethod\n",
    "    def distance(self, p1, p2):\n",
    "        pass\n",
    "            \n"
   ]
  },
  {
   "cell_type": "markdown",
   "id": "d1539b31",
   "metadata": {},
   "source": [
    "### **Clase PenguinSample**"
   ]
  },
  {
   "cell_type": "code",
   "execution_count": 29,
   "id": "00b52378",
   "metadata": {},
   "outputs": [],
   "source": [
    "import numpy as np\n",
    "\n",
    "class PenguinSample:\n",
    "    def __init__(self, features, species):\n",
    "        self.features = features\n",
    "        self.species = species\n",
    "    \n",
    "    @property\n",
    "    def features(self):\n",
    "        return self.features\n",
    "    \n",
    "    @property\n",
    "    def species(self):\n",
    "        return self.species\n",
    "    \n",
    "    def __eq__(self, other):\n",
    "        return np.array_equal(self.features, other.features)\n",
    "    \n",
    "    def __repr__(self):\n",
    "        return f'Pinguino({self.features}, Especie=\"{self.species}\")'"
   ]
  },
  {
   "cell_type": "markdown",
   "id": "357554b9",
   "metadata": {},
   "source": [
    "### **Clase KNNClassifier**"
   ]
  },
  {
   "cell_type": "code",
   "execution_count": 30,
   "id": "7864157e",
   "metadata": {},
   "outputs": [],
   "source": [
    "from collections import Counter\n",
    "\n",
    "class KNNClassifier(KNNBase):\n",
    "    def __init__(self):\n",
    "        self._X = []\n",
    "        self._y = []\n",
    "\n",
    "    def fit(self, X, y):\n",
    "        self._X = X\n",
    "        self._y = y\n",
    "\n",
    "    def distance(self, p1, p2):\n",
    "        return np.linalg.norm(p1 - p2)\n",
    "\n",
    "    def predict(self, X_new, k=3):\n",
    "        predictions = []\n",
    "        for x in X_new:\n",
    "            distances = [self.distance(x, train_x) for train_x in self._X]\n",
    "            k_indices = np.argsort(distances)[:k]\n",
    "            k_labels = [self._y[i] for i in k_indices]\n",
    "            majority_vote = Counter(k_labels).most_common(1)[0][0]\n",
    "            predictions.append(majority_vote)\n",
    "        return predictions\n",
    "\n",
    "    def __add__(self, other):\n",
    "        combined_X = self._X + other._X\n",
    "        combined_y = self._y + other._y\n",
    "        new_model = KNNClassifier()\n",
    "        new_model.fit(combined_X, combined_y)\n",
    "        return new_model\n"
   ]
  },
  {
   "cell_type": "markdown",
   "id": "1da0a1fc",
   "metadata": {},
   "source": [
    "### **Ejemplo**"
   ]
  },
  {
   "cell_type": "code",
   "execution_count": 32,
   "id": "2728e2e0",
   "metadata": {},
   "outputs": [
    {
     "name": "stdout",
     "output_type": "stream",
     "text": [
      "\n",
      "Predicciones para k=1:\n",
      "  Pingüino 1: Adelie\n",
      "  Pingüino 2: Gentoo\n",
      "  ✘ Chinstrap no fue predicho\n",
      "  ✔ Gentoo fue predicho\n",
      "  ✔ Adelie fue predicho\n",
      "\n",
      "Predicciones para k=3:\n",
      "  Pingüino 1: Adelie\n",
      "  Pingüino 2: Gentoo\n",
      "  ✘ Chinstrap no fue predicho\n",
      "  ✔ Gentoo fue predicho\n",
      "  ✔ Adelie fue predicho\n"
     ]
    }
   ],
   "source": [
    "X_train = [np.array([1.0, 2.0]), np.array([1.5, 1.8]), np.array([5.0, 8.0])]\n",
    "y_train = ['Adelie', 'Chinstrap', 'Gentoo']\n",
    "\n",
    "X_test = [np.array([1.2, 1.9]), np.array([5.1, 7.9])]\n",
    "\n",
    "# Crear clasificador\n",
    "modelo = KNNClassifier()\n",
    "modelo.fit(X_train, y_train)\n",
    "\n",
    "# Predecir con distintos valores de k\n",
    "for k in [1, 3]:\n",
    "    predicciones = modelo.predict(X_test, k)\n",
    "    print(f'\\nPredicciones para k={k}:')\n",
    "    for i, pred in enumerate(predicciones):\n",
    "        print(f'  Pingüino {i+1}: {pred}')\n",
    "\n",
    "    # Mostrar resumen de especies encontradas\n",
    "    especies_encontradas = set(predicciones)\n",
    "    todas_las_especies = {'Adelie', 'Chinstrap', 'Gentoo'}\n",
    "    for especie in todas_las_especies:\n",
    "        if especie in especies_encontradas:\n",
    "            print(f'  ✔ {especie} fue predicho')\n",
    "        else:\n",
    "            print(f'  ✘ {especie} no fue predicho')"
   ]
  }
 ],
 "metadata": {
  "kernelspec": {
   "display_name": "Practice_1",
   "language": "python",
   "name": "python3"
  },
  "language_info": {
   "codemirror_mode": {
    "name": "ipython",
    "version": 3
   },
   "file_extension": ".py",
   "mimetype": "text/x-python",
   "name": "python",
   "nbconvert_exporter": "python",
   "pygments_lexer": "ipython3",
   "version": "3.12.10"
  }
 },
 "nbformat": 4,
 "nbformat_minor": 5
}
